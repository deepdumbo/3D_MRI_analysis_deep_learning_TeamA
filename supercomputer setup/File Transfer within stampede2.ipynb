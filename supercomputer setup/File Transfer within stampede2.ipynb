{
 "cells": [
  {
   "cell_type": "markdown",
   "metadata": {},
   "source": [
    "# Directory Checks and File transfer within stampede2"
   ]
  },
  {
   "cell_type": "code",
   "execution_count": 5,
   "metadata": {},
   "outputs": [
    {
     "name": "stdout",
     "output_type": "stream",
     "text": [
      "Python 3.6.3\r\n"
     ]
    }
   ],
   "source": [
    "!python3 --version"
   ]
  },
  {
   "cell_type": "code",
   "execution_count": 4,
   "metadata": {},
   "outputs": [],
   "source": [
    "import os\n",
    "import pandas as pd\n",
    "import numpy as np\n",
    "import math\n",
    "import sys\n",
    "# import tensorflow as tf"
   ]
  },
  {
   "cell_type": "code",
   "execution_count": 8,
   "metadata": {},
   "outputs": [
    {
     "data": {
      "text/plain": [
       "'/home1/05982/tg852820'"
      ]
     },
     "execution_count": 8,
     "metadata": {},
     "output_type": "execute_result"
    }
   ],
   "source": [
    "os.getcwd()"
   ]
  },
  {
   "cell_type": "code",
   "execution_count": 9,
   "metadata": {},
   "outputs": [],
   "source": [
    "os.chdir('/scratch/05982/tg852820')"
   ]
  },
  {
   "cell_type": "code",
   "execution_count": 1,
   "metadata": {},
   "outputs": [
    {
     "name": "stdout",
     "output_type": "stream",
     "text": [
      "/home1/05982/tg852820\r\n"
     ]
    }
   ],
   "source": [
    "!pwd"
   ]
  },
  {
   "cell_type": "code",
   "execution_count": 5,
   "metadata": {},
   "outputs": [],
   "source": [
    "os.chdir('/work/03263/jcha9928/sharedirectory/nacc')"
   ]
  },
  {
   "cell_type": "code",
   "execution_count": 6,
   "metadata": {},
   "outputs": [
    {
     "name": "stdout",
     "output_type": "stream",
     "text": [
      "data_nacc_diagnosis.xlsx  fs_t1_nacc.tar      nacc_mri\t\toasis_pet\r\n",
      "fs_summary_nacc.tar.gz\t  fs_t1_oasis.tar     nacc_rdd_uds.pdf\tReadme.txt\r\n",
      "fs_t1\t\t\t  nacc_data_clinical  OASIS3\r\n"
     ]
    }
   ],
   "source": [
    "!ls"
   ]
  },
  {
   "cell_type": "code",
   "execution_count": 11,
   "metadata": {},
   "outputs": [],
   "source": [
    "os.chdir('/home1/05982/tg852820')"
   ]
  },
  {
   "cell_type": "code",
   "execution_count": 12,
   "metadata": {},
   "outputs": [
    {
     "name": "stdout",
     "output_type": "stream",
     "text": [
      "Copying nacc to our work directory.ipynb  portal_vnc.out\r\n",
      "dcvserver.out\t\t\t\t  saad.ipynb\r\n",
      "Desktop\t\t\t\t\t  Untitled1.ipynb\r\n",
      "intel\t\t\t\t\t  Untitled Folder\r\n",
      "jupyter.out\t\t\t\t  Untitled.ipynb\r\n",
      "Multi Node Test.ipynb\r\n"
     ]
    }
   ],
   "source": [
    "!ls"
   ]
  },
  {
   "cell_type": "code",
   "execution_count": 9,
   "metadata": {},
   "outputs": [
    {
     "name": "stdout",
     "output_type": "stream",
     "text": [
      "/work/05982/tg852820\r\n"
     ]
    }
   ],
   "source": [
    "!pwd"
   ]
  },
  {
   "cell_type": "code",
   "execution_count": 38,
   "metadata": {},
   "outputs": [],
   "source": [
    "os.mkdir('/work/05982/tg852820/TeamA')"
   ]
  },
  {
   "cell_type": "code",
   "execution_count": 13,
   "metadata": {},
   "outputs": [],
   "source": [
    "os.chdir('/work/05982/tg852820/TeamA')"
   ]
  },
  {
   "cell_type": "code",
   "execution_count": 14,
   "metadata": {},
   "outputs": [
    {
     "name": "stdout",
     "output_type": "stream",
     "text": [
      "/work/05982/tg852820/TeamA\r\n"
     ]
    }
   ],
   "source": [
    "!pwd"
   ]
  },
  {
   "cell_type": "code",
   "execution_count": 15,
   "metadata": {},
   "outputs": [
    {
     "name": "stdout",
     "output_type": "stream",
     "text": [
      "copy_TeamA_data_nacc_diagnosis.xlsx  fs_t1  nacc_copy_TeamA.tar\r\n"
     ]
    }
   ],
   "source": [
    "!ls"
   ]
  },
  {
   "cell_type": "markdown",
   "metadata": {},
   "source": [
    "## Checking node type"
   ]
  },
  {
   "cell_type": "code",
   "execution_count": 10,
   "metadata": {},
   "outputs": [
    {
     "name": "stdout",
     "output_type": "stream",
     "text": [
      "c455-021.stampede2.tacc.utexas.edu\r\n"
     ]
    }
   ],
   "source": [
    "!hostname #since hostname begins with a 'c', it means we are on the compute node. Always use compute node"
   ]
  },
  {
   "cell_type": "code",
   "execution_count": 11,
   "metadata": {},
   "outputs": [
    {
     "name": "stdout",
     "output_type": "stream",
     "text": [
      "\u001b[?1h\u001b=\r",
      "\u001b[m\r\n",
      "Currently Loaded Modules:\u001b[m\r\n",
      "  1) intel/17.0.4   3) git/2.9.0       5) python/2.7.13   7) TACC\u001b[m\r\n",
      "  2) impi/17.0.3    4) autotools/1.1   6) xalt/2.4        8) python3/3.6.3\u001b[m\r\n",
      "\u001b[m\r\n",
      " \u001b[m\r\n",
      "\u001b[m\r\n",
      "\r",
      "\u001b[K\u001b[?1l\u001b>"
     ]
    }
   ],
   "source": [
    "!module list"
   ]
  },
  {
   "cell_type": "markdown",
   "metadata": {},
   "source": [
    "## Command for copying file"
   ]
  },
  {
   "cell_type": "code",
   "execution_count": 27,
   "metadata": {},
   "outputs": [
    {
     "data": {
      "text/plain": [
       "'/work/05982/tg852820/TeamA/nacc_copy_TeamA.tar'"
      ]
     },
     "execution_count": 27,
     "metadata": {},
     "output_type": "execute_result"
    }
   ],
   "source": [
    "import shutil\n",
    "from shutil import copyfile\n",
    "shutil.copy2('/work/03263/jcha9928/sharedirectory/nacc/fs_t1_nacc.tar',\n",
    "             '/work/05982/tg852820/TeamA/nacc_copy_TeamA.tar')"
   ]
  },
  {
   "cell_type": "code",
   "execution_count": 28,
   "metadata": {},
   "outputs": [],
   "source": [
    "os.chdir('/work/03263/jcha9928/sharedirectory/nacc')"
   ]
  },
  {
   "cell_type": "code",
   "execution_count": 29,
   "metadata": {},
   "outputs": [
    {
     "name": "stdout",
     "output_type": "stream",
     "text": [
      "37.14199552\n"
     ]
    }
   ],
   "source": [
    "statinfo = os.stat('fs_t1_nacc.tar')\n",
    "size_in_bytes = statinfo.st_size\n",
    "size_in_gb = size_in_bytes/(1000000000)\n",
    "print(size_in_gb)"
   ]
  },
  {
   "cell_type": "code",
   "execution_count": 30,
   "metadata": {},
   "outputs": [],
   "source": [
    "os.chdir('/work/05982/tg852820/TeamA')"
   ]
  },
  {
   "cell_type": "code",
   "execution_count": 31,
   "metadata": {},
   "outputs": [
    {
     "name": "stdout",
     "output_type": "stream",
     "text": [
      "nacc_copy_TeamA.tar\r\n"
     ]
    }
   ],
   "source": [
    "!ls"
   ]
  },
  {
   "cell_type": "code",
   "execution_count": 32,
   "metadata": {},
   "outputs": [
    {
     "name": "stdout",
     "output_type": "stream",
     "text": [
      "37.14199552\n"
     ]
    }
   ],
   "source": [
    "statinfo = os.stat('nacc_copy_TeamA.tar')\n",
    "size_in_bytes = statinfo.st_size\n",
    "size_in_gb = size_in_bytes/(1000000000)\n",
    "print(size_in_gb)"
   ]
  },
  {
   "cell_type": "code",
   "execution_count": 35,
   "metadata": {
    "scrolled": true
   },
   "outputs": [
    {
     "data": {
      "text/plain": [
       "'/work/05982/tg852820/TeamA/copy_TeamA_data_nacc_diagnosis.xlsx'"
      ]
     },
     "execution_count": 35,
     "metadata": {},
     "output_type": "execute_result"
    }
   ],
   "source": [
    "shutil.copy2('/work/03263/jcha9928/sharedirectory/nacc/data_nacc_diagnosis.xlsx', '/work/05982/tg852820/TeamA/copy_TeamA_data_nacc_diagnosis.xlsx')"
   ]
  },
  {
   "cell_type": "code",
   "execution_count": 38,
   "metadata": {},
   "outputs": [
    {
     "name": "stdout",
     "output_type": "stream",
     "text": [
      "copy_TeamA_data_nacc_diagnosis.xlsx  nacc_copy_TeamA.tar\r\n"
     ]
    }
   ],
   "source": [
    "!ls"
   ]
  },
  {
   "cell_type": "code",
   "execution_count": 14,
   "metadata": {},
   "outputs": [
    {
     "data": {
      "text/plain": [
       "'/scratch/05982/tg852820/copy_fs_t1_nacc.tar'"
      ]
     },
     "execution_count": 14,
     "metadata": {},
     "output_type": "execute_result"
    }
   ],
   "source": [
    "shutil.copy2('/work/03263/jcha9928/sharedirectory/nacc/fs_t1_nacc.tar', '/scratch/05982/tg852820/copy_fs_t1_nacc.tar')"
   ]
  },
  {
   "cell_type": "code",
   "execution_count": 15,
   "metadata": {},
   "outputs": [
    {
     "name": "stdout",
     "output_type": "stream",
     "text": [
      "copy_fs_t1_nacc.tar\r\n"
     ]
    }
   ],
   "source": [
    "!ls"
   ]
  },
  {
   "cell_type": "code",
   "execution_count": 16,
   "metadata": {},
   "outputs": [
    {
     "data": {
      "text/plain": [
       "'/scratch/05982/tg852820/TeamA_data_nacc_diagnosis_scratch.xlsx'"
      ]
     },
     "execution_count": 16,
     "metadata": {},
     "output_type": "execute_result"
    }
   ],
   "source": [
    "shutil.copy2('/work/03263/jcha9928/sharedirectory/nacc/data_nacc_diagnosis.xlsx', '/scratch/05982/tg852820/TeamA_data_nacc_diagnosis_scratch.xlsx')"
   ]
  },
  {
   "cell_type": "code",
   "execution_count": 17,
   "metadata": {},
   "outputs": [
    {
     "name": "stdout",
     "output_type": "stream",
     "text": [
      "copy_fs_t1_nacc.tar  TeamA_data_nacc_diagnosis_scratch.xlsx\r\n"
     ]
    }
   ],
   "source": [
    "!ls"
   ]
  }
 ],
 "metadata": {
  "kernelspec": {
   "display_name": "Python 3",
   "language": "python",
   "name": "python3"
  },
  "language_info": {
   "codemirror_mode": {
    "name": "ipython",
    "version": 3
   },
   "file_extension": ".py",
   "mimetype": "text/x-python",
   "name": "python",
   "nbconvert_exporter": "python",
   "pygments_lexer": "ipython3",
   "version": "3.6.5"
  }
 },
 "nbformat": 4,
 "nbformat_minor": 2
}

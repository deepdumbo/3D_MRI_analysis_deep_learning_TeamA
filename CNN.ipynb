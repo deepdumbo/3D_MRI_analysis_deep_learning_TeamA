{
 "cells": [
  {
   "cell_type": "code",
   "execution_count": 1,
   "metadata": {
    "scrolled": false
   },
   "outputs": [
    {
     "name": "stderr",
     "output_type": "stream",
     "text": [
      "C:\\Users\\zhang\\AppData\\Local\\Continuum\\anaconda3\\lib\\site-packages\\h5py\\__init__.py:36: FutureWarning: Conversion of the second argument of issubdtype from `float` to `np.floating` is deprecated. In future, it will be treated as `np.float64 == np.dtype(float).type`.\n",
      "  from ._conv import register_converters as _register_converters\n"
     ]
    }
   ],
   "source": [
    "import tarfile\n",
    "import pandas as pd\n",
    "import numpy as np\n",
    "from nilearn import plotting\n",
    "import os\n",
    "import nibabel as nib\n",
    "import tensorflow as tf\n",
    "import matplotlib.pyplot as plt\n",
    "\n",
    "%matplotlib inline\n",
    "np.random.seed(1)"
   ]
  },
  {
   "cell_type": "code",
   "execution_count": 2,
   "metadata": {},
   "outputs": [],
   "source": [
    "data_info = pd.read_csv('data_info.csv')"
   ]
  },
  {
   "cell_type": "code",
   "execution_count": 3,
   "metadata": {},
   "outputs": [],
   "source": [
    "data_info['Normal'] = data_info[\"diagnosis_0normal_1normaltomci_2mci_3ad_4otherdementia\"].apply(lambda x: 1 if x==0 else 0)\n",
    "data_info['NormalToMCI'] = data_info[\"diagnosis_0normal_1normaltomci_2mci_3ad_4otherdementia\"].apply(lambda x: 1 if x==1 else 0)\n",
    "data_info['MCI'] = data_info[\"diagnosis_0normal_1normaltomci_2mci_3ad_4otherdementia\"].apply(lambda x: 1 if x==2 else 0)\n",
    "data_info['AD'] = data_info[\"diagnosis_0normal_1normaltomci_2mci_3ad_4otherdementia\"].apply(lambda x: 1 if x==3 else 0)\n",
    "data_info['OtherDementia'] = data_info[\"diagnosis_0normal_1normaltomci_2mci_3ad_4otherdementia\"].apply(lambda x: 1 if x==4 else 0)"
   ]
  },
  {
   "cell_type": "code",
   "execution_count": 4,
   "metadata": {},
   "outputs": [
    {
     "data": {
      "text/html": [
       "<div>\n",
       "<style scoped>\n",
       "    .dataframe tbody tr th:only-of-type {\n",
       "        vertical-align: middle;\n",
       "    }\n",
       "\n",
       "    .dataframe tbody tr th {\n",
       "        vertical-align: top;\n",
       "    }\n",
       "\n",
       "    .dataframe thead th {\n",
       "        text-align: right;\n",
       "    }\n",
       "</style>\n",
       "<table border=\"1\" class=\"dataframe\">\n",
       "  <thead>\n",
       "    <tr style=\"text-align: right;\">\n",
       "      <th></th>\n",
       "      <th>Unnamed: 0</th>\n",
       "      <th>filename</th>\n",
       "      <th>NACCMRFI</th>\n",
       "      <th>diagnosis_0normal_1normaltomci_2mci_3ad_4otherdementia</th>\n",
       "      <th>Normal</th>\n",
       "      <th>NormalToMCI</th>\n",
       "      <th>MCI</th>\n",
       "      <th>AD</th>\n",
       "      <th>OtherDementia</th>\n",
       "    </tr>\n",
       "  </thead>\n",
       "  <tbody>\n",
       "    <tr>\n",
       "      <th>0</th>\n",
       "      <td>0</td>\n",
       "      <td>mri71_MPRAGE_T1_AX_20100921133637_15.nii.gz</td>\n",
       "      <td>mri71</td>\n",
       "      <td>3.0</td>\n",
       "      <td>0</td>\n",
       "      <td>0</td>\n",
       "      <td>0</td>\n",
       "      <td>1</td>\n",
       "      <td>0</td>\n",
       "    </tr>\n",
       "    <tr>\n",
       "      <th>1</th>\n",
       "      <td>1</td>\n",
       "      <td>mri3579_t1_fl2d_sag_20100610142105_3.nii.gz</td>\n",
       "      <td>mri3579</td>\n",
       "      <td>3.0</td>\n",
       "      <td>0</td>\n",
       "      <td>0</td>\n",
       "      <td>0</td>\n",
       "      <td>1</td>\n",
       "      <td>0</td>\n",
       "    </tr>\n",
       "    <tr>\n",
       "      <th>2</th>\n",
       "      <td>2</td>\n",
       "      <td>mri3579_MPRAGE_adni1mm_ipat_20100610142105_11....</td>\n",
       "      <td>mri3579</td>\n",
       "      <td>3.0</td>\n",
       "      <td>0</td>\n",
       "      <td>0</td>\n",
       "      <td>0</td>\n",
       "      <td>1</td>\n",
       "      <td>0</td>\n",
       "    </tr>\n",
       "    <tr>\n",
       "      <th>3</th>\n",
       "      <td>3</td>\n",
       "      <td>mri3579_ep2d_t1w_128_2mm_20100610142105_19.nii.gz</td>\n",
       "      <td>mri3579</td>\n",
       "      <td>3.0</td>\n",
       "      <td>0</td>\n",
       "      <td>0</td>\n",
       "      <td>0</td>\n",
       "      <td>1</td>\n",
       "      <td>0</td>\n",
       "    </tr>\n",
       "    <tr>\n",
       "      <th>4</th>\n",
       "      <td>4</td>\n",
       "      <td>mri3579_MPRAGE_adni1mm_ipat_20100610142105_13....</td>\n",
       "      <td>mri3579</td>\n",
       "      <td>3.0</td>\n",
       "      <td>0</td>\n",
       "      <td>0</td>\n",
       "      <td>0</td>\n",
       "      <td>1</td>\n",
       "      <td>0</td>\n",
       "    </tr>\n",
       "  </tbody>\n",
       "</table>\n",
       "</div>"
      ],
      "text/plain": [
       "   Unnamed: 0                                           filename NACCMRFI  \\\n",
       "0           0        mri71_MPRAGE_T1_AX_20100921133637_15.nii.gz    mri71   \n",
       "1           1        mri3579_t1_fl2d_sag_20100610142105_3.nii.gz  mri3579   \n",
       "2           2  mri3579_MPRAGE_adni1mm_ipat_20100610142105_11....  mri3579   \n",
       "3           3  mri3579_ep2d_t1w_128_2mm_20100610142105_19.nii.gz  mri3579   \n",
       "4           4  mri3579_MPRAGE_adni1mm_ipat_20100610142105_13....  mri3579   \n",
       "\n",
       "   diagnosis_0normal_1normaltomci_2mci_3ad_4otherdementia  Normal  \\\n",
       "0                                                3.0            0   \n",
       "1                                                3.0            0   \n",
       "2                                                3.0            0   \n",
       "3                                                3.0            0   \n",
       "4                                                3.0            0   \n",
       "\n",
       "   NormalToMCI  MCI  AD  OtherDementia  \n",
       "0            0    0   1              0  \n",
       "1            0    0   1              0  \n",
       "2            0    0   1              0  \n",
       "3            0    0   1              0  \n",
       "4            0    0   1              0  "
      ]
     },
     "execution_count": 4,
     "metadata": {},
     "output_type": "execute_result"
    }
   ],
   "source": [
    "data_info.head()"
   ]
  },
  {
   "cell_type": "markdown",
   "metadata": {},
   "source": [
    "### select training set"
   ]
  },
  {
   "cell_type": "code",
   "execution_count": 5,
   "metadata": {},
   "outputs": [],
   "source": [
    "number_files_loaded = 3\n",
    "sample_list = data_info.iloc[:number_files_loaded, :][\"filename\"]\n",
    "sample_data_list = list()\n",
    "for filename in sample_list:\n",
    "    # or is it better to use get_fdata()?\n",
    "    a = nib.load(\"fs_t1/\"+filename).get_data()\n",
    "    sample_data_list.append(a)\n",
    "sample_dataset = np.array(sample_data_list, dtype=np.float32)\n",
    "batch_size, height, width, depth = sample_dataset.shape\n",
    "channels = 1  # gray-scale instead of RGB\n",
    "s = sample_dataset.reshape(number_files_loaded, 256, 256, 256, 1)"
   ]
  },
  {
   "cell_type": "code",
   "execution_count": 6,
   "metadata": {},
   "outputs": [
    {
     "data": {
      "text/html": [
       "<div>\n",
       "<style scoped>\n",
       "    .dataframe tbody tr th:only-of-type {\n",
       "        vertical-align: middle;\n",
       "    }\n",
       "\n",
       "    .dataframe tbody tr th {\n",
       "        vertical-align: top;\n",
       "    }\n",
       "\n",
       "    .dataframe thead th {\n",
       "        text-align: right;\n",
       "    }\n",
       "</style>\n",
       "<table border=\"1\" class=\"dataframe\">\n",
       "  <thead>\n",
       "    <tr style=\"text-align: right;\">\n",
       "      <th></th>\n",
       "      <th>Normal</th>\n",
       "      <th>NormalToMCI</th>\n",
       "      <th>MCI</th>\n",
       "      <th>AD</th>\n",
       "      <th>OtherDementia</th>\n",
       "    </tr>\n",
       "  </thead>\n",
       "  <tbody>\n",
       "    <tr>\n",
       "      <th>0</th>\n",
       "      <td>0</td>\n",
       "      <td>0</td>\n",
       "      <td>0</td>\n",
       "      <td>1</td>\n",
       "      <td>0</td>\n",
       "    </tr>\n",
       "    <tr>\n",
       "      <th>1</th>\n",
       "      <td>0</td>\n",
       "      <td>0</td>\n",
       "      <td>0</td>\n",
       "      <td>1</td>\n",
       "      <td>0</td>\n",
       "    </tr>\n",
       "    <tr>\n",
       "      <th>2</th>\n",
       "      <td>0</td>\n",
       "      <td>0</td>\n",
       "      <td>0</td>\n",
       "      <td>1</td>\n",
       "      <td>0</td>\n",
       "    </tr>\n",
       "  </tbody>\n",
       "</table>\n",
       "</div>"
      ],
      "text/plain": [
       "   Normal  NormalToMCI  MCI  AD  OtherDementia\n",
       "0       0            0    0   1              0\n",
       "1       0            0    0   1              0\n",
       "2       0            0    0   1              0"
      ]
     },
     "execution_count": 6,
     "metadata": {},
     "output_type": "execute_result"
    }
   ],
   "source": [
    "y = data_info.iloc[:number_files_loaded, 4:9]\n",
    "y"
   ]
  },
  {
   "cell_type": "markdown",
   "metadata": {},
   "source": [
    "### create placeholders"
   ]
  },
  {
   "cell_type": "code",
   "execution_count": 7,
   "metadata": {},
   "outputs": [],
   "source": [
    "def create_placeholders(n_D0, n_H0, n_W0, n_C0, n_y):\n",
    "    \"\"\"\n",
    "    Creates the placeholders for the tensorflow session.\n",
    "\n",
    "    Arguments:\n",
    "    n_D0 -- scalar, depth of an input image\n",
    "    n_H0 -- scalar, height of an input image\n",
    "    n_W0 -- scalar, width of an input image\n",
    "    n_C0 -- scalar, number of channels of the input\n",
    "    n_y -- scalar, number of classes\n",
    "\n",
    "    Returns:\n",
    "    X -- placeholder for the data input, of shape [None, n_D0, n_H0, n_W0, n_C0] and dtype \"float\"\n",
    "    Y -- placeholder for the input labels, of shape [None, n_y] and dtype \"float\"\n",
    "    \"\"\"\n",
    "\n",
    "    X = tf.placeholder(shape=(None, n_D0, n_H0, n_W0, n_C0), dtype=tf.float32)\n",
    "    Y = tf.placeholder(shape=(None, n_y), dtype=tf.float32)\n",
    "\n",
    "    return X, Y"
   ]
  },
  {
   "cell_type": "markdown",
   "metadata": {},
   "source": [
    "### initialize parameters"
   ]
  },
  {
   "cell_type": "markdown",
   "metadata": {},
   "source": [
    "### forward propagation"
   ]
  },
  {
   "cell_type": "code",
   "execution_count": 8,
   "metadata": {},
   "outputs": [],
   "source": [
    "def forward_propagation(X, parameters=None):\n",
    "    \"\"\"\n",
    "    Implements the forward propagation for the model:\n",
    "    CONV2D -> RELU -> MAXPOOL -> CONV2D -> RELU -> MAXPOOL -> FLATTEN -> FULLYCONNECTED\n",
    "\n",
    "    Arguments:\n",
    "    X -- input dataset placeholder, of shape (input size, number of examples)\n",
    "    parameters -- python dictionary containing your parameters \"W1\", \"W2\"\n",
    "                  the shapes are given in initialize_parameters\n",
    "\n",
    "    Returns:\n",
    "    Z3 -- the output of the last LINEAR unit\n",
    "    \"\"\"\n",
    "\n",
    "    # Retrieve the parameters from the dictionary \"parameters\"\n",
    "\n",
    "\n",
    "    # CONV2D: filters W1, stride of 1, padding 'SAME', RELU\n",
    "    # output_size = (3, 256, 256, 256, 8)\n",
    "    A1 = tf.layers.conv3d(X, filters=8, kernel_size=4,\n",
    "                          strides=1, padding=\"SAME\", activation=tf.nn.relu)\n",
    "    \n",
    "    # MAXPOOL: window 8x8, sride 8, padding 'SAME'\n",
    "    # output_size = (3, 32, 32, 32, 8)\n",
    "    P1 = tf.layers.max_pooling3d(A1, pool_size=8, strides=8, padding=\"SAME\")\n",
    "    \n",
    "    # CONV2D: filters W2, stride 1, padding 'SAME'\n",
    "    # output_size = (3, 32, 32, 32, 16)\n",
    "    A2 = tf.layers.conv3d(P1, filters=16, kernel_size=2,\n",
    "                          strides=1, padding=\"SAME\", activation=tf.nn.relu)\n",
    "    \n",
    "    # MAXPOOL: window 4x4, stride 4, padding 'SAME'\n",
    "    # output_size = (3, 8, 8, 8, 16)\n",
    "    P2 = tf.layers.max_pooling3d(A2, pool_size=4, strides=4, padding=\"SAME\") \n",
    "    \n",
    "    # FLATTEN\n",
    "    # output_size = (3, 8192)\n",
    "    P2 = tf.contrib.layers.flatten(P2)   \n",
    "    \n",
    "    # FULLY-CONNECTED without non-linear activation function (not not call softmax).\n",
    "    # 5 neurons in output layer. Hint: one of the arguments should be \"activation_fn=None\"\n",
    "    # output_size = (3,5)\n",
    "    Z3 = tf.contrib.layers.fully_connected(P2, 5, activation_fn=None)   \n",
    "\n",
    "\n",
    "    return Z3"
   ]
  },
  {
   "cell_type": "markdown",
   "metadata": {},
   "source": [
    "### compute cost"
   ]
  },
  {
   "cell_type": "code",
   "execution_count": 9,
   "metadata": {},
   "outputs": [],
   "source": [
    "def compute_cost(Z3, Y):\n",
    "    \"\"\"\n",
    "    Computes the cost\n",
    "    \n",
    "    Arguments:\n",
    "    Z3 -- output of forward propagation (output of the last LINEAR unit), of shape (6, number of examples)\n",
    "    Y -- \"true\" labels vector placeholder, same shape as Z3\n",
    "    \n",
    "    Returns:\n",
    "    cost - Tensor of the cost function\n",
    "    \"\"\"\n",
    "    \n",
    "    cost = tf.nn.softmax_cross_entropy_with_logits(logits = Z3, labels = Y)\n",
    "    cost = tf.reduce_mean(cost)\n",
    "    \n",
    "    return cost"
   ]
  },
  {
   "cell_type": "code",
   "execution_count": 10,
   "metadata": {},
   "outputs": [
    {
     "name": "stdout",
     "output_type": "stream",
     "text": [
      "WARNING:tensorflow:From <ipython-input-9-153567f51b05>:13: softmax_cross_entropy_with_logits (from tensorflow.python.ops.nn_ops) is deprecated and will be removed in a future version.\n",
      "Instructions for updating:\n",
      "\n",
      "Future major versions of TensorFlow will allow gradients to flow\n",
      "into the labels input on backprop by default.\n",
      "\n",
      "See @{tf.nn.softmax_cross_entropy_with_logits_v2}.\n",
      "\n"
     ]
    }
   ],
   "source": [
    "(number_file_loaded, n_D0, n_H0, n_W0, n_C0) = s.shape\n",
    "n_y = 5\n",
    "with tf.Session() as sess:\n",
    "    X, Y = create_placeholders(n_D0, n_H0, n_W0, n_C0, n_y)\n",
    "#     parameters = initialize_parameters()\n",
    "    Z3 = forward_propagation(X)\n",
    "    cost = compute_cost(Z3, Y)\n",
    "    init = tf.global_variables_initializer()\n",
    "    sess.run(init)\n",
    "    temp_cost = sess.run(cost, {X: s, Y: y})"
   ]
  },
  {
   "cell_type": "code",
   "execution_count": 11,
   "metadata": {},
   "outputs": [
    {
     "data": {
      "text/plain": [
       "55.668713"
      ]
     },
     "execution_count": 11,
     "metadata": {},
     "output_type": "execute_result"
    }
   ],
   "source": [
    "temp_cost"
   ]
  },
  {
   "cell_type": "code",
   "execution_count": null,
   "metadata": {},
   "outputs": [],
   "source": []
  }
 ],
 "metadata": {
  "kernelspec": {
   "display_name": "Python 3",
   "language": "python",
   "name": "python3"
  },
  "language_info": {
   "codemirror_mode": {
    "name": "ipython",
    "version": 3
   },
   "file_extension": ".py",
   "mimetype": "text/x-python",
   "name": "python",
   "nbconvert_exporter": "python",
   "pygments_lexer": "ipython3",
   "version": "3.6.5"
  }
 },
 "nbformat": 4,
 "nbformat_minor": 2
}

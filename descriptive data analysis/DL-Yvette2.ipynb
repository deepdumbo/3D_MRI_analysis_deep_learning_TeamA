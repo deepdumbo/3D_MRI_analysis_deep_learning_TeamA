{
 "cells": [
  {
   "cell_type": "markdown",
   "metadata": {},
   "source": [
    "# nacc dataset"
   ]
  },
  {
   "cell_type": "markdown",
   "metadata": {},
   "source": [
    "### 1. Data cleaning"
   ]
  },
  {
   "cell_type": "code",
   "execution_count": 1,
   "metadata": {},
   "outputs": [],
   "source": [
    "import tarfile\n",
    "import pandas as pd\n",
    "import numpy as np"
   ]
  },
  {
   "cell_type": "code",
   "execution_count": 2,
   "metadata": {},
   "outputs": [
    {
     "data": {
      "text/html": [
       "<div>\n",
       "<style scoped>\n",
       "    .dataframe tbody tr th:only-of-type {\n",
       "        vertical-align: middle;\n",
       "    }\n",
       "\n",
       "    .dataframe tbody tr th {\n",
       "        vertical-align: top;\n",
       "    }\n",
       "\n",
       "    .dataframe thead th {\n",
       "        text-align: right;\n",
       "    }\n",
       "</style>\n",
       "<table border=\"1\" class=\"dataframe\">\n",
       "  <thead>\n",
       "    <tr style=\"text-align: right;\">\n",
       "      <th></th>\n",
       "      <th>filename</th>\n",
       "      <th>NACCMRFI</th>\n",
       "    </tr>\n",
       "  </thead>\n",
       "  <tbody>\n",
       "    <tr>\n",
       "      <th>0</th>\n",
       "      <td>mri71_MPRAGE_T1_AX_20100921133637_15.nii.gz</td>\n",
       "      <td>mri71</td>\n",
       "    </tr>\n",
       "    <tr>\n",
       "      <th>1</th>\n",
       "      <td>mri3579_t1_fl2d_sag_20100610142105_3.nii.gz</td>\n",
       "      <td>mri3579</td>\n",
       "    </tr>\n",
       "    <tr>\n",
       "      <th>2</th>\n",
       "      <td>mri4375_MPRAGE_20110105152454_2.nii.gz</td>\n",
       "      <td>mri4375</td>\n",
       "    </tr>\n",
       "    <tr>\n",
       "      <th>3</th>\n",
       "      <td>mri4908_SAG_T1_20130424203248_2.nii.gz</td>\n",
       "      <td>mri4908</td>\n",
       "    </tr>\n",
       "    <tr>\n",
       "      <th>4</th>\n",
       "      <td>mri1061_FSPGR_rhuser1=-376_rhuser2=10_20130620...</td>\n",
       "      <td>mri1061</td>\n",
       "    </tr>\n",
       "  </tbody>\n",
       "</table>\n",
       "</div>"
      ],
      "text/plain": [
       "                                            filename NACCMRFI\n",
       "0        mri71_MPRAGE_T1_AX_20100921133637_15.nii.gz    mri71\n",
       "1        mri3579_t1_fl2d_sag_20100610142105_3.nii.gz  mri3579\n",
       "2             mri4375_MPRAGE_20110105152454_2.nii.gz  mri4375\n",
       "3             mri4908_SAG_T1_20130424203248_2.nii.gz  mri4908\n",
       "4  mri1061_FSPGR_rhuser1=-376_rhuser2=10_20130620...  mri1061"
      ]
     },
     "execution_count": 2,
     "metadata": {},
     "output_type": "execute_result"
    }
   ],
   "source": [
    "# see if this is a tar file\n",
    "# print(tarfile.is_tarfile(\"fs_t1_nacc.tar\"))\n",
    "\n",
    "tar = tarfile.open(\"fs_t1_nacc.tar\")\n",
    "# get a list of tarInfo objects\n",
    "directory = tar.getmembers()\n",
    "# extract names from the objects to get a directory list\n",
    "directory = [file.name.split(\"/\")[1] for file in directory if file.isfile()]\n",
    "# 7862 files in total\n",
    "image_info = pd.DataFrame(directory, columns=[\"filename\"])\n",
    "image_info[\"NACCMRFI\"] = image_info[\"filename\"].apply(\n",
    "    lambda x: x.split(\"_\")[0])\n",
    "image_info.head()\n",
    "# 5897 unique NACCMRFIs in total"
   ]
  },
  {
   "cell_type": "code",
   "execution_count": 3,
   "metadata": {
    "scrolled": false
   },
   "outputs": [
    {
     "data": {
      "text/html": [
       "<div>\n",
       "<style scoped>\n",
       "    .dataframe tbody tr th:only-of-type {\n",
       "        vertical-align: middle;\n",
       "    }\n",
       "\n",
       "    .dataframe tbody tr th {\n",
       "        vertical-align: top;\n",
       "    }\n",
       "\n",
       "    .dataframe thead th {\n",
       "        text-align: right;\n",
       "    }\n",
       "</style>\n",
       "<table border=\"1\" class=\"dataframe\">\n",
       "  <thead>\n",
       "    <tr style=\"text-align: right;\">\n",
       "      <th></th>\n",
       "      <th>NACCMRFI</th>\n",
       "      <th>diagnosis_0normal_1normaltomci_2mci_3ad_4otherdementia</th>\n",
       "    </tr>\n",
       "  </thead>\n",
       "  <tbody>\n",
       "    <tr>\n",
       "      <th>0</th>\n",
       "      <td>mri1140</td>\n",
       "      <td>0</td>\n",
       "    </tr>\n",
       "    <tr>\n",
       "      <th>1</th>\n",
       "      <td>mri5864</td>\n",
       "      <td>0</td>\n",
       "    </tr>\n",
       "    <tr>\n",
       "      <th>2</th>\n",
       "      <td>mri5863</td>\n",
       "      <td>0</td>\n",
       "    </tr>\n",
       "    <tr>\n",
       "      <th>3</th>\n",
       "      <td>mri4786</td>\n",
       "      <td>0</td>\n",
       "    </tr>\n",
       "    <tr>\n",
       "      <th>4</th>\n",
       "      <td>mri7855</td>\n",
       "      <td>0</td>\n",
       "    </tr>\n",
       "  </tbody>\n",
       "</table>\n",
       "</div>"
      ],
      "text/plain": [
       "  NACCMRFI  diagnosis_0normal_1normaltomci_2mci_3ad_4otherdementia\n",
       "0  mri1140                                                  0     \n",
       "1  mri5864                                                  0     \n",
       "2  mri5863                                                  0     \n",
       "3  mri4786                                                  0     \n",
       "4  mri7855                                                  0     "
      ]
     },
     "execution_count": 3,
     "metadata": {},
     "output_type": "execute_result"
    }
   ],
   "source": [
    "# load data_nacc_diagnosis.csv to match the diagnosis with image data\n",
    "clinic_info = pd.read_excel(\"data_nacc_diagnosis.xlsx\")\n",
    "clinic_info.head()\n",
    "\n",
    "# remove columns we don't use\n",
    "temp1 = clinic_info.iloc[:, 1:3]\n",
    "temp1.head()\n",
    "\n",
    "# check the duplicate situation, generate a list of indices to drop\n",
    "temp2 = temp1.groupby(\"NACCMRFI\").nunique()\n",
    "# drop the conflicting-diagnoses cases: 12 cases removed\n",
    "duplicates = temp2[temp2[\"diagnosis_0normal_1normaltomci_2mci_3ad_4otherdementia\"] == 2].index\n",
    "temp3 = temp1.set_index(\"NACCMRFI\").drop(labels=list(duplicates), axis=0)\n",
    "# drop normal duplicates, 81 cases removed\n",
    "diag_info = temp3.reset_index().drop_duplicates()\n",
    "# modify ID information\n",
    "diag_info[\"NACCMRFI\"] = diag_info[\"NACCMRFI\"].apply(lambda x: x.split(\".\")[0])\n",
    "diag_info.head()"
   ]
  },
  {
   "cell_type": "code",
   "execution_count": 4,
   "metadata": {
    "scrolled": true
   },
   "outputs": [
    {
     "name": "stdout",
     "output_type": "stream",
     "text": [
      "There are 8836 data points in total.\n",
      "Only 6272 can be matched to the diagnosis information which can be used as the dataset.\n"
     ]
    }
   ],
   "source": [
    "# merge the two files and see the matching results\n",
    "match_info = image_info.merge(\n",
    "    diag_info, left_on=\"NACCMRFI\", right_on=\"NACCMRFI\", how=\"outer\")\n",
    "act_dataset_len = len(match_info[(match_info[\"diagnosis_0normal_1normaltomci_2mci_3ad_4otherdementia\"].isna(\n",
    ") == False) & (match_info[\"filename\"].isna() == False)])\n",
    "whole_dataset_len = len(match_info)\n",
    "print(\"There are %s data points in total.\" % whole_dataset_len)\n",
    "print(\"Only %s can be matched to the diagnosis information which can be used as the dataset.\" % act_dataset_len)\n",
    "\n",
    "# take all useful data points\n",
    "data_info = match_info[(match_info[\"diagnosis_0normal_1normaltomci_2mci_3ad_4otherdementia\"].isna(\n",
    ") == False) & (match_info[\"filename\"].isna() == False)]\n",
    "# data_info.head(30)"
   ]
  },
  {
   "cell_type": "markdown",
   "metadata": {},
   "source": [
    "### 2. Apply the autoencoder"
   ]
  },
  {
   "cell_type": "code",
   "execution_count": 5,
   "metadata": {
    "scrolled": true
   },
   "outputs": [
    {
     "name": "stderr",
     "output_type": "stream",
     "text": [
      "C:\\Users\\zhang\\AppData\\Local\\Continuum\\anaconda3\\lib\\site-packages\\h5py\\__init__.py:36: FutureWarning: Conversion of the second argument of issubdtype from `float` to `np.floating` is deprecated. In future, it will be treated as `np.float64 == np.dtype(float).type`.\n",
      "  from ._conv import register_converters as _register_converters\n"
     ]
    }
   ],
   "source": [
    "from nilearn import plotting\n",
    "import os\n",
    "import nibabel as nib\n",
    "import tensorflow as tf"
   ]
  },
  {
   "cell_type": "code",
   "execution_count": 6,
   "metadata": {},
   "outputs": [],
   "source": [
    "# tar.extract(\"fs_t1/mri1001_Coronal-MPRAGE_20090113091713_3.nii.gz\")\n",
    "# plotting.plot_img(\"fs_t1/mri1001_Coronal-MPRAGE_20090113091713_3.nii.gz\")\n",
    "# plotting.show()\n",
    "\n",
    "# tar.extract(\"fs_t1/mri1001_Coronal-MPRAGE_20090113091713_3d.nii.gz\")\n",
    "# plotting.plot_img(\"fs_t1/mri1001_Coronal-MPRAGE_20090113091713_3d.nii.gz\")\n",
    "# plotting.show()\n",
    "\n",
    "# tar.extract(\"fs_t1/mri1001_FSPGR_rhuser1=-376_rhuser2=10_20090113113423_3.nii.gz\")\n",
    "# plotting.plot_img(\"fs_t1/mri1001_FSPGR_rhuser1=-376_rhuser2=10_20090113113423_3.nii.gz\")\n",
    "# plotting.show()\n",
    "\n",
    "# tar.extract(\"fs_t1/mri1001_FSPGR_rhuser1=-376_rhuser2=10_20090113113423_3d.nii.gz\")\n",
    "# plotting.plot_img(\"fs_t1/mri1001_FSPGR_rhuser1=-376_rhuser2=10_20090113113423_3d.nii.gz\")\n",
    "# plotting.show()"
   ]
  },
  {
   "cell_type": "markdown",
   "metadata": {},
   "source": [
    "##### building a 3D convolutional layer"
   ]
  },
  {
   "cell_type": "code",
   "execution_count": 6,
   "metadata": {},
   "outputs": [],
   "source": [
    "# load sample images\n",
    "number_files_loaded = 3\n",
    "sample_list = data_info.iloc[:number_files_loaded, :][\"filename\"]\n",
    "sample_data_list = list()\n",
    "for filename in sample_list:\n",
    "    file = tar.extract(\"fs_t1/\"+filename)\n",
    "    # or is it better to use get_fdata()?\n",
    "    a = nib.load(\"fs_t1/\"+filename).get_data()\n",
    "    sample_data_list.append(a)\n",
    "sample_dataset = np.array(sample_data_list, dtype=np.float32)\n",
    "batch_size, height, width, depth = sample_dataset.shape\n",
    "channels = 1  # gray-scale instead of RGB\n",
    "s = sample_dataset.reshape(3, 256, 256, 256, 1)\n",
    "\n",
    "# create 3 filters (2 filters for 2D)\n",
    "# kernel size is 7 here, might not be optimal\n",
    "# filters = np.zeros(shape=(7, 7, 7, channels, 3), dtype=np.float32)\n",
    "# filters[3, :, :, :, 0] = 1  # horizontal line\n",
    "# filters[:, 3, :, :, 1] = 1  # vertical line\n",
    "# filters[:, :, 3, :, 2] = 1  # another dimension line\n",
    "\n",
    "# # create a 3D convolutional layer\n",
    "# X = tf.placeholder(tf.float32, shape=(None, height, width, depth, channels))\n",
    "# convolution = tf.nn.conv3d(X, filters, strides=[1, 4, 4, 4, 1], padding='SAME')\n",
    "\n",
    "# with tf.Session() as sess:\n",
    "#     output = sess.run(convolution, feed_dict={X: s})"
   ]
  },
  {
   "cell_type": "code",
   "execution_count": null,
   "metadata": {},
   "outputs": [],
   "source": [
    "batch_size = 3\n",
    "depth = 256\n",
    "height = 256\n",
    "width = 256\n",
    "n_channels = 1\n",
    "input_shape = (batch_size, depth, height, width, n_channels)\n",
    "filters = (3,60,120)\n",
    "# kernel_size = \n",
    "padding = \"same\"          # \"valid\" or \"same\"\n",
    "activation = tf.nn.relu\n",
    "stride = [4,4,4]\n",
    "\n",
    "\n",
    "# start of tensorflow graph\n",
    " #input and target placeholders\n",
    "inputs_ = tf.placeholder(tf.float32, input_shape, name='inputs')\n",
    "# targets_ = tf.placeholder(tf.float32, input_shape, name='targets')\n",
    "\n",
    "\n",
    " #network 14\n",
    "  #encoder\n",
    "conv1 = tf.layers.conv3d(inputs= inputs_, filters=filters[0], kernel_size=(7,7,7), padding= padding, strides = stride, activation=tf.nn.relu)\t\n",
    "maxpool1 = tf.layers.max_pooling3d(conv1, pool_size=(8,8,8), strides=(8,8,8), padding= padding)\n",
    "# conv2 = tf.layers.conv3d(inputs=maxpool1, filters=filters[1], kernel_size=(3,3,3), padding= padding, strides = stride, activation=tf.nn.relu)\n",
    "# maxpool2 = tf.layers.max_pooling3d(conv2, pool_size=(2,2,2), strides=(2,2,2), padding= padding)\n",
    "# conv3 = tf.layers.conv3d(inputs=maxpool2, filters=filters[2], kernel_size=(3,3,3), padding= padding , strides = stride, activation=tf.nn.relu)\n",
    "# maxpool3 = tf.layers.max_pooling3d(conv3, pool_size=(4,4,4), strides=(4,4,4), padding= padding)\n",
    "  #latent internal representation\n",
    "\n",
    "  #decoder\n",
    "# unpool1 = tf.keras.backend.resize_volumes(maxpool3,4,4,4,\"channels_last\")\n",
    "# deconv1 = tf.layers.conv3d_transpose(inputs=unpool1, filters=filters[2], kernel_size=(3,3,3), padding= padding , strides = stride, activation=tf.nn.relu)\n",
    "# unpool2 = tf.keras.backend.resize_volumes(maxpool2,2,2,2,\"channels_last\")\n",
    "# deconv2 = tf.layers.conv3d_transpose(inputs=unpool2, filters=filters[1], kernel_size=(3,3,3), padding= padding , strides = stride, activation=tf.nn.relu)\n",
    "unpool3 = tf.keras.backend.resize_volumes(maxpool1,8,8,8,\"channels_last\")\n",
    "deconv3 = tf.layers.conv3d_transpose(inputs=unpool3, filters=filters[0], kernel_size=(7,7,7), padding= padding , strides = stride, activation=tf.nn.relu)\n",
    "\n",
    "# output = tf.layers.dense(inputs=deconv3, units=1)\n",
    "# output = tf.reshape(output, input_shape)\n",
    "  # output shape = input shape\n",
    "\n",
    "\n",
    "  #loss function, optimizer and a saver to save weights&biases\n",
    "# loss = tf.divide(tf.norm(tf.subtract(targets_, output), ord = 'fro', axis = [1,2,3]), tf.norm(targets_, ord = 'fro', axis = [1,2,3]))\n",
    "# cost = tf.reduce_mean(loss)\n",
    "# opt = tf.train.AdamOptimizer(learning_rate).minimize(cost)\n",
    "# all_saver = tf.train.Saver(max_to_keep = None)\n",
    "\n",
    "init_op = tf.global_variables_initializer()\n",
    "\n",
    "# sess = tf.Session()\n",
    "# sess.run(init_op)\n",
    "\n",
    "with tf.Session() as sess:\n",
    "    sess.run(init_op)\n",
    "#     decode_output = sess.run(maxpool3, feed_dict={inputs_: s})\n",
    "    encode_output = sess.run(deconv3, feed_dict={inputs_: s})"
   ]
  },
  {
   "cell_type": "code",
   "execution_count": 42,
   "metadata": {},
   "outputs": [
    {
     "data": {
      "text/plain": [
       "(3, 8, 8, 8, 120)"
      ]
     },
     "execution_count": 42,
     "metadata": {},
     "output_type": "execute_result"
    }
   ],
   "source": [
    "decode_output.shape"
   ]
  },
  {
   "cell_type": "code",
   "execution_count": 43,
   "metadata": {},
   "outputs": [
    {
     "data": {
      "text/plain": [
       "(3, 32, 32, 32, 120)"
      ]
     },
     "execution_count": 43,
     "metadata": {},
     "output_type": "execute_result"
    }
   ],
   "source": [
    "encode_output.shape"
   ]
  },
  {
   "cell_type": "code",
   "execution_count": 8,
   "metadata": {},
   "outputs": [],
   "source": [
    "def layer_batch_normalization(x, n_out, phase_train):\n",
    "    \"\"\"\n",
    "    Defines the network layers\n",
    "    input:\n",
    "        - x: input vector of the layer\n",
    "        - n_out: integer, depth of input maps - number of sample in the batch \n",
    "        - phase_train: boolean tf.Varialbe, true indicates training phase\n",
    "    output:\n",
    "        - batch-normalized maps   \n",
    "    \n",
    "    \n",
    "    \"\"\"\n",
    "\n",
    "    beta_init = tf.constant_initializer(value=0.0, dtype=tf.float32)\n",
    "    beta = tf.get_variable(\"beta\", [n_out], initializer=beta_init)\n",
    "    \n",
    "    gamma_init = tf.constant_initializer(value=1.0, dtype=tf.float32)\n",
    "    gamma = tf.get_variable(\"gamma\", [n_out], initializer=gamma_init)\n",
    "\n",
    "    #tf.nn.moment: https://www.tensorflow.org/api_docs/python/tf/nn/moments\n",
    "    #calculate mean and variance of x\n",
    "    batch_mean, batch_var = tf.nn.moments(x, [0], name='moments')\n",
    "    \n",
    "    #tf.train.ExponentialMovingAverage:\n",
    "    #https://www.tensorflow.org/api_docs/python/tf/train/ExponentialMovingAverage\n",
    "    #Maintains moving averages of variables by employing an exponential decay.\n",
    "    ema = tf.train.ExponentialMovingAverage(decay=0.9)\n",
    "    ema_apply_op = ema.apply([batch_mean, batch_var])\n",
    "    ema_mean, ema_var = ema.average(batch_mean), ema.average(batch_var)\n",
    "    \n",
    "    def mean_var_with_update():\n",
    "        with tf.control_dependencies([ema_apply_op]):\n",
    "            return tf.identity(batch_mean), tf.identity(batch_var)\n",
    "        \n",
    "    #tf.cond: https://www.tensorflow.org/api_docs/python/tf/cond\n",
    "    #Return true_fn() if the predicate pred is true else false_fn()\n",
    "    mean, var = tf.cond(phase_train, mean_var_with_update, lambda: (ema_mean, ema_var))\n",
    "\n",
    "    reshaped_x = tf.reshape(x, [-1, 1, 1, n_out])\n",
    "    normed = tf.nn.batch_norm_with_global_normalization(reshaped_x, mean, var, beta, gamma, 1e-3, True)\n",
    "    \n",
    "    return tf.reshape(normed, [-1, n_out])"
   ]
  },
  {
   "cell_type": "code",
   "execution_count": null,
   "metadata": {},
   "outputs": [],
   "source": [
    "layer_batch_normalization(x, n_out, phase_train)"
   ]
  },
  {
   "cell_type": "code",
   "execution_count": null,
   "metadata": {},
   "outputs": [],
   "source": [
    "def layer(x, weight_shape, bias_shape, phase_train):\n",
    "    \n",
    "    \"\"\"\n",
    "    Defines the network layers\n",
    "    input:\n",
    "        - x: input vector of the layer\n",
    "        - weight_shape: shape the the weight maxtrix\n",
    "        - bias_shape: shape of the bias vector\n",
    "        - phase_train: boolean tf.Varialbe, true indicates training phase\n",
    "    output:\n",
    "        - output vector of the layer after the matrix multiplication and non linear transformation\n",
    "    \"\"\"\n",
    "    \n",
    "    #initialize weights\n",
    "    weight_init = tf.random_normal_initializer(stddev=(1.0/weight_shape[0])**0.5)\n",
    "    W = tf.get_variable(\"W\", weight_shape, initializer=weight_init)\n",
    "    \n",
    "    bias_init = tf.constant_initializer(value=0)\n",
    "    b = tf.get_variable(\"b\", bias_shape, initializer=bias_init)\n",
    "\n",
    "    logits = tf.matmul(x, W) + b\n",
    "    \n",
    "    #apply the non-linear function after the batch normalization\n",
    "    return tf.nn.sigmoid(layer_batch_normalization(logits, weight_shape[1], phase_train))"
   ]
  },
  {
   "cell_type": "code",
   "execution_count": null,
   "metadata": {},
   "outputs": [],
   "source": []
  },
  {
   "cell_type": "code",
   "execution_count": 8,
   "metadata": {},
   "outputs": [
    {
     "data": {
      "text/plain": [
       "(5, 64, 64, 64, 3)"
      ]
     },
     "execution_count": 8,
     "metadata": {},
     "output_type": "execute_result"
    }
   ],
   "source": [
    "output.shape"
   ]
  },
  {
   "cell_type": "code",
   "execution_count": 9,
   "metadata": {},
   "outputs": [],
   "source": [
    "batch, xs, ys, zs, channels = output"
   ]
  },
  {
   "cell_type": "code",
   "execution_count": 10,
   "metadata": {},
   "outputs": [
    {
     "data": {
      "text/plain": [
       "(64, 64, 64)"
      ]
     },
     "execution_count": 10,
     "metadata": {},
     "output_type": "execute_result"
    }
   ],
   "source": [
    "output[0, :, :, :, 1].shape"
   ]
  },
  {
   "cell_type": "code",
   "execution_count": 44,
   "metadata": {},
   "outputs": [
    {
     "ename": "IndexError",
     "evalue": "index 128 is out of bounds for axis 2 with size 32",
     "output_type": "error",
     "traceback": [
      "\u001b[1;31m---------------------------------------------------------------------------\u001b[0m",
      "\u001b[1;31mIndexError\u001b[0m                                Traceback (most recent call last)",
      "\u001b[1;32m<ipython-input-44-ecf1caf417b8>\u001b[0m in \u001b[0;36m<module>\u001b[1;34m()\u001b[0m\n\u001b[0;32m     27\u001b[0m \u001b[0mplt\u001b[0m\u001b[1;33m.\u001b[0m\u001b[0mimshow\u001b[0m\u001b[1;33m(\u001b[0m\u001b[0mimg\u001b[0m\u001b[1;33m)\u001b[0m\u001b[1;33m\u001b[0m\u001b[0m\n\u001b[0;32m     28\u001b[0m \u001b[1;33m\u001b[0m\u001b[0m\n\u001b[1;32m---> 29\u001b[1;33m \u001b[0mimg\u001b[0m \u001b[1;33m=\u001b[0m \u001b[0mencode_output\u001b[0m\u001b[1;33m[\u001b[0m\u001b[1;36m0\u001b[0m\u001b[1;33m,\u001b[0m \u001b[1;33m:\u001b[0m\u001b[1;33m,\u001b[0m \u001b[1;36m128\u001b[0m\u001b[1;33m,\u001b[0m \u001b[1;33m:\u001b[0m\u001b[1;33m,\u001b[0m \u001b[1;36m0\u001b[0m\u001b[1;33m]\u001b[0m\u001b[1;33m\u001b[0m\u001b[0m\n\u001b[0m\u001b[0;32m     30\u001b[0m \u001b[0mfig\u001b[0m\u001b[1;33m.\u001b[0m\u001b[0madd_subplot\u001b[0m\u001b[1;33m(\u001b[0m\u001b[0mrows\u001b[0m\u001b[1;33m,\u001b[0m \u001b[0mcolumns\u001b[0m\u001b[1;33m,\u001b[0m \u001b[1;36m1\u001b[0m\u001b[1;33m)\u001b[0m\u001b[1;33m\u001b[0m\u001b[0m\n\u001b[0;32m     31\u001b[0m \u001b[0mplt\u001b[0m\u001b[1;33m.\u001b[0m\u001b[0mimshow\u001b[0m\u001b[1;33m(\u001b[0m\u001b[0mimg\u001b[0m\u001b[1;33m)\u001b[0m\u001b[1;33m\u001b[0m\u001b[0m\n",
      "\u001b[1;31mIndexError\u001b[0m: index 128 is out of bounds for axis 2 with size 32"
     ]
    },
    {
     "data": {
      "image/png": "[encoded data removed]",
      "text/plain": [
       "<Figure size 1440x1440 with 2 Axes>"
      ]
     },
     "metadata": {},
     "output_type": "display_data"
    }
   ],
   "source": [
    "import matplotlib.pyplot as plt\n",
    "%matplotlib inline\n",
    "\n",
    "w = 10\n",
    "h = 10\n",
    "fig = plt.figure(figsize=(20, 20))\n",
    "columns = 4\n",
    "rows = 1\n",
    "# for i in range(1, columns*rows +1):\n",
    "#     img = np.random.randint(10, size=(h,w))\n",
    "#     fig.add_subplot(rows, columns, i)\n",
    "#     plt.imshow(img)\n",
    "img = s[0, :, 128, :, 0]\n",
    "fig.add_subplot(rows, columns, 1)\n",
    "plt.imshow(img)\n",
    "\n",
    "# img = output[0, :, 4, :, 0]\n",
    "# fig.add_subplot(rows, columns, 2)\n",
    "# plt.imshow(img)\n",
    "\n",
    "# img = output[0, :, 4, :, 1]\n",
    "# fig.add_subplot(rows, columns, 3)\n",
    "# plt.imshow(img)\n",
    "\n",
    "img = decode_output[0, :, 4, :, 60]\n",
    "fig.add_subplot(rows, columns, 4)\n",
    "plt.imshow(img)\n",
    "\n",
    "img = encode_output[0, :, 128, :, 0]\n",
    "fig.add_subplot(rows, columns, 1)\n",
    "plt.imshow(img)\n",
    "\n",
    "plt.show()"
   ]
  },
  {
   "cell_type": "code",
   "execution_count": null,
   "metadata": {},
   "outputs": [],
   "source": []
  },
  {
   "cell_type": "code",
   "execution_count": null,
   "metadata": {},
   "outputs": [],
   "source": []
  },
  {
   "cell_type": "code",
   "execution_count": null,
   "metadata": {},
   "outputs": [],
   "source": []
  },
  {
   "cell_type": "code",
   "execution_count": 69,
   "metadata": {},
   "outputs": [],
   "source": [
    "\"\"\"\n",
    "tf.nn.conv3d(\n",
    "    input,\n",
    "    filter,\n",
    "    strides,\n",
    "    padding,\n",
    "    data_format='NDHWC',\n",
    "    name=None\n",
    "    \n",
    "    \n",
    "    input = x \n",
    "    filter = W \n",
    "    stride = [1,1,1,1,1]\n",
    "    padding='SAME'\n",
    "    \n",
    ") \"\"\"\n",
    "\n",
    "\n",
    "def module_conv3d(x, weight_shape, bias_shape):\n",
    "    print(weight_shape)\n",
    "    sizeIn = weight_shape[0] * weight_shape[1] * weight_shape[2]\n",
    "\n",
    "    weight_init = tf.random_normal_initializer(stddev=(2.0/sizeIn)**0.5)\n",
    "    W = tf.get_variable(\"W\", weight_shape, initializer=weight_init)\n",
    "    # initialize bias with zeros\n",
    "    bias_init = tf.constant_initializer(value=0)\n",
    "    b = tf.get_variable(\"b\", bias_shape, initializer=bias_init)\n",
    "    return tf.nn.relu(tf.nn.bias_add(tf.nn.conv3d(x, W, strides=[1, 1, 1, 1, 1], padding='SAME'), b))"
   ]
  },
  {
   "cell_type": "code",
   "execution_count": 51,
   "metadata": {},
   "outputs": [
    {
     "data": {
      "text/plain": [
       "(100, 256, 256, 256, 1)"
      ]
     },
     "execution_count": 51,
     "metadata": {},
     "output_type": "execute_result"
    }
   ],
   "source": [
    "s.shape"
   ]
  },
  {
   "cell_type": "code",
   "execution_count": 52,
   "metadata": {},
   "outputs": [],
   "source": [
    "s_1 = s[0].reshape(256, 256, 256)"
   ]
  },
  {
   "cell_type": "code",
   "execution_count": 39,
   "metadata": {},
   "outputs": [
    {
     "data": {
      "text/plain": [
       "(100, 256, 256, 256, 1)"
      ]
     },
     "execution_count": 39,
     "metadata": {},
     "output_type": "execute_result"
    }
   ],
   "source": [
    "s_new.shape"
   ]
  },
  {
   "cell_type": "code",
   "execution_count": 67,
   "metadata": {},
   "outputs": [
    {
     "data": {
      "text/plain": [
       "<matplotlib.image.AxesImage at 0x1c1a886b70>"
      ]
     },
     "execution_count": 67,
     "metadata": {},
     "output_type": "execute_result"
    },
    {
     "data": {
      "image/png": "[encoded data removed]",
      "text/plain": [
       "<Figure size 432x288 with 1 Axes>"
      ]
     },
     "metadata": {},
     "output_type": "display_data"
    }
   ],
   "source": [
    "import matplotlib.pyplot as plt\n",
    "%matplotlib inline\n",
    "plt.imshow(s_1[120].astype(np.uint8))"
   ]
  },
  {
   "cell_type": "code",
   "execution_count": 55,
   "metadata": {},
   "outputs": [
    {
     "data": {
      "text/plain": [
       "[1, 102, 9]"
      ]
     },
     "execution_count": 55,
     "metadata": {},
     "output_type": "execute_result"
    }
   ],
   "source": [
    "a = [0,102,9]\n",
    "a[0] = 1\n",
    "a"
   ]
  },
  {
   "cell_type": "code",
   "execution_count": null,
   "metadata": {},
   "outputs": [],
   "source": []
  }
 ],
 "metadata": {
  "kernelspec": {
   "display_name": "Python 3",
   "language": "python",
   "name": "python3"
  },
  "language_info": {
   "codemirror_mode": {
    "name": "ipython",
    "version": 3
   },
   "file_extension": ".py",
   "mimetype": "text/x-python",
   "name": "python",
   "nbconvert_exporter": "python",
   "pygments_lexer": "ipython3",
   "version": "3.6.5"
  }
 },
 "nbformat": 4,
 "nbformat_minor": 2
}

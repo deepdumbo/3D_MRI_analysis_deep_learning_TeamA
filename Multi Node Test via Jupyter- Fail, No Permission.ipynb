{
 "cells": [
  {
   "cell_type": "code",
   "execution_count": 1,
   "metadata": {},
   "outputs": [
    {
     "name": "stdout",
     "output_type": "stream",
     "text": [
      "/home1/05982/tg852820\r\n"
     ]
    }
   ],
   "source": [
    "!pwd"
   ]
  },
  {
   "cell_type": "code",
   "execution_count": 2,
   "metadata": {},
   "outputs": [],
   "source": [
    "import os"
   ]
  },
  {
   "cell_type": "code",
   "execution_count": 3,
   "metadata": {},
   "outputs": [],
   "source": [
    "os.chdir('/scratch/05982/tg852820')"
   ]
  },
  {
   "cell_type": "code",
   "execution_count": 4,
   "metadata": {},
   "outputs": [
    {
     "name": "stdout",
     "output_type": "stream",
     "text": [
      "/scratch/05982/tg852820\r\n"
     ]
    }
   ],
   "source": [
    "!pwd"
   ]
  },
  {
   "cell_type": "code",
   "execution_count": 7,
   "metadata": {
    "scrolled": true
   },
   "outputs": [
    {
     "name": "stdout",
     "output_type": "stream",
     "text": [
      "Requirement already satisfied: horovod in /home1/05982/tg852820/.local/lib/python3.6/site-packages\n",
      "Requirement already satisfied: cffi>=1.4.0 in /opt/apps/intel17/python3/3.6.3/lib/python3.6/site-packages (from horovod)\n",
      "Requirement already satisfied: pycparser in /opt/apps/intel17/python3/3.6.3/lib/python3.6/site-packages (from cffi>=1.4.0->horovod)\n",
      "\u001b[33mYou are using pip version 9.0.1, however version 18.1 is available.\n",
      "You should consider upgrading via the 'pip install --upgrade pip' command.\u001b[0m\n"
     ]
    }
   ],
   "source": [
    "# !pip3 install --user horovod"
   ]
  },
  {
   "cell_type": "code",
   "execution_count": 5,
   "metadata": {
    "scrolled": true
   },
   "outputs": [
    {
     "name": "stdout",
     "output_type": "stream",
     "text": [
      "c445-012.stampede2.tacc.utexas.edu\r\n"
     ]
    }
   ],
   "source": [
    "!hostname"
   ]
  },
  {
   "cell_type": "code",
   "execution_count": 6,
   "metadata": {},
   "outputs": [],
   "source": [
    "!module load launcher"
   ]
  },
  {
   "cell_type": "code",
   "execution_count": 7,
   "metadata": {},
   "outputs": [
    {
     "name": "stdout",
     "output_type": "stream",
     "text": [
      "\u001b[?1h\u001b=\r",
      "\u001b[m\r\n",
      "------------------- Module Specific Help for \"launcher/3.2\" --------------------\u001b[m\r\n",
      "The tacc-launcher module file defines the environment variable:\u001b[m\r\n",
      "$TACC_LAUNCHER_DIR for the location of the TACC Parametric \u001b[m\r\n",
      "Job Launcher which is a simple utility for submitting multiple\u001b[m\r\n",
      "serial applications simultaneously.\u001b[m\r\n",
      "\u001b[m\r\n",
      "For more information on using the Launcher, please consult\u001b[m\r\n",
      "the README.launcher file located in $TACC_LAUNCHER_DIR\u001b[m\r\n",
      "\u001b[m\r\n",
      "Version 3.2\u001b[m\r\n",
      "\u001b[m\r\n",
      "\u001b[m\r\n",
      "\u001b[m\r\n",
      "\r",
      "\u001b[K\u001b[?1l\u001b>"
     ]
    }
   ],
   "source": [
    "!module help launcher"
   ]
  },
  {
   "cell_type": "code",
   "execution_count": 8,
   "metadata": {},
   "outputs": [
    {
     "name": "stdout",
     "output_type": "stream",
     "text": [
      "\n",
      " -> Compute nodes in the development queue of the stampede2 system have HyperThreading turned on.\n",
      " -> Normal HPC Applications will use no more than 68 tasks per node (=cores/node).\n",
      " -> Few Apps use all HyperThreads [4 (HWthreads/Core) x 68 (Cores/Node) = 272 ).\n",
      " -> FOR IDEV USE: specify the default tasks/per node for this queue.\u001b[1;36m(68 suggested)\n",
      "\u001b[0mPlease type the tasks per node and hit return: ^C\n",
      "\n",
      " ->  idev: no session created, gracefully exiting...\n",
      "\n",
      "\n",
      " ->  idev: no session created, gracefully exiting...\n",
      "\n"
     ]
    }
   ],
   "source": [
    "!idev"
   ]
  },
  {
   "cell_type": "code",
   "execution_count": 10,
   "metadata": {},
   "outputs": [
    {
     "name": "stdout",
     "output_type": "stream",
     "text": [
      "\n",
      "\n",
      " -> Checking on the status of flat-quadrant queue. OK\n",
      "\n",
      " -> Defaults file    : ~/.idevrc    \n",
      " -> System           : stampede2    \n",
      " -> Queue            : flat-quadrant  (cmd line: -p        )\n",
      " -> Nodes            : 4              (cmd line: -N        )\n",
      " -> Total tasks      : 4              (cmd line: -n        )\n",
      " -> Time (hh:mm:ss)  : 00:30:00       (cmd line: -t        )\n",
      " -> Project          : project        (cmd line: -A        )\n",
      "\n",
      "[TACC]: Job submission is not allowed from this host. Please submit\n",
      "[TACC]: through one of the available login resources.\n",
      "\n",
      " idev detected an error in your resource request (see details above):\n",
      "  Here is the command you executed:\n",
      "   /bin/idev -A project -p flat-quadrant -N 4 -n 4 -t 00:30:00 \n",
      "\n",
      " ->  idev: no session created, gracefully exiting...\n",
      "\n"
     ]
    }
   ],
   "source": [
    "!idev -A project -p flat-quadrant -N 4 -n 4 -t 00:30:00"
   ]
  },
  {
   "cell_type": "code",
   "execution_count": 10,
   "metadata": {},
   "outputs": [
    {
     "name": "stdout",
     "output_type": "stream",
     "text": [
      "[0] python: can't open file 'tf_cnn_benchmarks.py': [Errno 2] No such file or directory\r\n"
     ]
    }
   ],
   "source": [
    "!export OMP_NUM_THREADS=64\n",
    "!export KMP_BLOCKTIME=0\n",
    "!export KMP_SETTINGS=1\n",
    "!export KMP_AFFINITY=granularity=fine,verbose,compact,1,0\n",
    "!mpiexec.hydra -l -ppn 1 -n 1 taskset -c 0-64,68-132,136-200,204-268 python tf_cnn_benchmarks.py  --model resnet50 --batch_size 128 --data_format NCHW --num_intra_threads 64 --num_inter_threads 2 --distortions False --num_batches 200\n"
   ]
  }
 ],
 "metadata": {
  "kernelspec": {
   "display_name": "Python 3",
   "language": "python",
   "name": "python3"
  },
  "language_info": {
   "codemirror_mode": {
    "name": "ipython",
    "version": 3
   },
   "file_extension": ".py",
   "mimetype": "text/x-python",
   "name": "python",
   "nbconvert_exporter": "python",
   "pygments_lexer": "ipython3",
   "version": "3.6.3"
  }
 },
 "nbformat": 4,
 "nbformat_minor": 2
}
